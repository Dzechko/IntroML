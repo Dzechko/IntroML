{
 "cells": [
  {
   "cell_type": "code",
   "execution_count": null,
   "id": "7417fd80-94b2-4f86-af5b-7661352dcf2e",
   "metadata": {},
   "outputs": [],
   "source": [
    "import tensorflow as tf\n",
    "\n",
    "class myCallback(tf.keras.callbacks.Callback):\n",
    "    def on_epoch_end(self, epoch, logs={}):\n",
    "        if(logs.get('accuracy')>0.95):\n",
    "            print(\"\\nReached 95% accuracy so cancelling training!\")\n",
    "            self.model.stop_training = True\n",
    "\n",
    "callbacks = myCallback()\n",
    "data = tf.keras.datasets.fashion_mnist\n",
    "\n",
    "(training_images, training_labels), (test_images, test_labels) = data.load_data()\n",
    "\n",
    "training_images = training_images/255.0 # values of training_images = 0 to 255 ----> 0 to 1\n",
    "test_images = test_images/255.0  #similaryly values of test_images changed to 0 to 1. this process is called normalizing the image.\n",
    "#normalization improves the performance\n",
    "\n",
    "\n",
    "model = tf.keras.Sequential([\n",
    "    tf.keras.layers.Flatten(input_shape=(28,28)), # not a layer of neurons. input layer specefication, we fill flat our 2d array[28x28] to 1d array\n",
    "    tf.keras.layers.Dense(128, activation=tf.nn.relu),# middle layer. 128 neurons, relu = rectified linear unit. it returns a value if > 0. we dont want negative values in summation\n",
    "    tf.keras.layers.Dense(10, activation=tf.nn.softmax) # output layer. 10 neurons because 10 classes . softmax loop through all neurons and find the bigger one (each neurons will end up with a probability that the input pixel matchs the class.\n",
    "    ])\n",
    "\n",
    "model.compile(optimizer='adam',\n",
    "             loss='sparse_categorical_crossentropy',\n",
    "             metrics=['accuracy'])\n",
    "\n",
    "model.fit(training_images, training_labels, epochs=50,\n",
    "         callbacks=[callbacks])\n",
    "\n",
    "\n"
   ]
  },
  {
   "cell_type": "code",
   "execution_count": null,
   "id": "8c238e64-3ffb-429c-be85-7a3c48637900",
   "metadata": {},
   "outputs": [],
   "source": [
    "model.evaluate(test_images, test_labels)"
   ]
  },
  {
   "cell_type": "code",
   "execution_count": null,
   "id": "edc699d8-8d5c-4f26-ac30-c34e5834803f",
   "metadata": {},
   "outputs": [],
   "source": [
    "classifications = model.predict(test_images)\n",
    "print(classifications[0])\n",
    "print(test_labels[0])"
   ]
  },
  {
   "cell_type": "code",
   "execution_count": null,
   "id": "47ec39e1-b6a5-4ec8-a7b2-0f1e0b07600b",
   "metadata": {},
   "outputs": [],
   "source": [
    "print(classifications[88])\n",
    "print(test_labels[88])"
   ]
  },
  {
   "cell_type": "code",
   "execution_count": null,
   "id": "16162240-c0ac-4ad9-ba95-1f234b13cf6d",
   "metadata": {},
   "outputs": [],
   "source": []
  }
 ],
 "metadata": {
  "kernelspec": {
   "display_name": "Python 3 (ipykernel)",
   "language": "python",
   "name": "python3"
  },
  "language_info": {
   "codemirror_mode": {
    "name": "ipython",
    "version": 3
   },
   "file_extension": ".py",
   "mimetype": "text/x-python",
   "name": "python",
   "nbconvert_exporter": "python",
   "pygments_lexer": "ipython3",
   "version": "3.10.12"
  }
 },
 "nbformat": 4,
 "nbformat_minor": 5
}
